{
 "cells": [
  {
   "cell_type": "code",
   "execution_count": 1,
   "id": "b72a5344",
   "metadata": {},
   "outputs": [],
   "source": [
    "from hf import HFGame"
   ]
  },
  {
   "cell_type": "code",
   "execution_count": 3,
   "id": "0469b43a",
   "metadata": {},
   "outputs": [
    {
     "name": "stdout",
     "output_type": "stream",
     "text": [
      "Collecting gym\n",
      "  Downloading gym-0.26.2.tar.gz (721 kB)\n",
      "     ------------------------------------- 721.7/721.7 kB 72.3 kB/s eta 0:00:00\n",
      "  Installing build dependencies: started\n",
      "  Installing build dependencies: finished with status 'done'\n",
      "  Getting requirements to build wheel: started\n",
      "  Getting requirements to build wheel: finished with status 'done'\n",
      "  Preparing metadata (pyproject.toml): started\n",
      "  Preparing metadata (pyproject.toml): finished with status 'done'\n",
      "Requirement already satisfied: importlib-metadata>=4.8.0 in c:\\users\\brave\\anaconda3\\envs\\pythondata38\\lib\\site-packages (from gym) (4.11.3)\n",
      "Requirement already satisfied: numpy>=1.18.0 in c:\\users\\brave\\anaconda3\\envs\\pythondata38\\lib\\site-packages (from gym) (1.21.5)\n",
      "Requirement already satisfied: cloudpickle>=1.2.0 in c:\\users\\brave\\anaconda3\\envs\\pythondata38\\lib\\site-packages (from gym) (2.0.0)\n",
      "Collecting gym-notices>=0.0.4\n",
      "  Downloading gym_notices-0.0.8-py3-none-any.whl (3.0 kB)\n",
      "Requirement already satisfied: zipp>=0.5 in c:\\users\\brave\\anaconda3\\envs\\pythondata38\\lib\\site-packages (from importlib-metadata>=4.8.0->gym) (3.7.0)\n",
      "Building wheels for collected packages: gym\n",
      "  Building wheel for gym (pyproject.toml): started\n",
      "  Building wheel for gym (pyproject.toml): finished with status 'done'\n",
      "  Created wheel for gym: filename=gym-0.26.2-py3-none-any.whl size=827646 sha256=316f760a70f633f3584e12fa7f420368ca00c4ffceead47e0dbac106535ad46f\n",
      "  Stored in directory: c:\\users\\brave\\appdata\\local\\pip\\cache\\wheels\\17\\79\\65\\7afedc162d858b02708a3b8f7a6dd5b1000dcd5b0f894f7cc1\n",
      "Successfully built gym\n",
      "Installing collected packages: gym-notices, gym\n",
      "Successfully installed gym-0.26.2 gym-notices-0.0.8\n"
     ]
    }
   ],
   "source": [
    "!pip install gym"
   ]
  },
  {
   "cell_type": "code",
   "execution_count": 4,
   "id": "01c21bde",
   "metadata": {},
   "outputs": [],
   "source": [
    "from gym import Env\n",
    "from gym.spaces import Discrete, Box\n",
    "import numpy as np\n",
    "import random as r"
   ]
  },
  {
   "cell_type": "code",
   "execution_count": 34,
   "id": "21601000",
   "metadata": {},
   "outputs": [],
   "source": [
    "class TestEnv(Env):\n",
    "    \n",
    "    def __init__(self):\n",
    "        self.action_space = Discrete(3)\n",
    "        self.observation_space = Box(low=np.array([0]), high=np.array([100]), dtype=np.float16)\n",
    "        self.reset()\n",
    "        self.time_limit = 60\n",
    "        \n",
    "    def step(self, action):\n",
    "        \n",
    "        # perform action:\n",
    "        self.temp += action - 1\n",
    "        \n",
    "        # receive reward:\n",
    "        reward = 1 if self.temp <= 39 and self.temp >= 37 else -1\n",
    "        \n",
    "        # check if time limit is reached:\n",
    "        done = self.time == self.time_limit\n",
    "        \n",
    "        # perform response:\n",
    "        self.temp += r.randint(-1, 1)\n",
    "        \n",
    "        # increment time\n",
    "        self.time += 1\n",
    "        \n",
    "        return (self.temp, reward, done, {})\n",
    "        \n",
    "    def reset(self):\n",
    "        \n",
    "        # reset time:\n",
    "        self.time = 0\n",
    "        \n",
    "        # reset temp (state):\n",
    "        self.temp = 38 + r.randint(-3, 3)\n",
    "        \n",
    "        return self.temp\n",
    "    "
   ]
  },
  {
   "cell_type": "code",
   "execution_count": 35,
   "id": "7adc431e",
   "metadata": {},
   "outputs": [],
   "source": [
    "env = TestEnv()"
   ]
  },
  {
   "cell_type": "code",
   "execution_count": 36,
   "id": "4dce2417",
   "metadata": {
    "scrolled": true
   },
   "outputs": [
    {
     "name": "stdout",
     "output_type": "stream",
     "text": [
      "Episode: 1, Score: -27\n",
      "Episode: 2, Score: -35\n",
      "Episode: 3, Score: -33\n",
      "Episode: 4, Score: -53\n",
      "Episode: 5, Score: -15\n",
      "Episode: 6, Score: -61\n",
      "Episode: 7, Score: -51\n",
      "Episode: 8, Score: -59\n",
      "Episode: 9, Score: -55\n",
      "Episode: 10, Score: 7\n"
     ]
    }
   ],
   "source": [
    "episodes = 10\n",
    "for episode in range(1, episodes+1):\n",
    "    # initialize temp and status\n",
    "    temp = env.reset()\n",
    "    done = False\n",
    "    score = 0\n",
    "    # loop through episode:\n",
    "    while not done:\n",
    "        action = env.action_space.sample()\n",
    "        temp, reward, done, info = env.step(action)\n",
    "        score += reward\n",
    "    print(f'Episode: {episode}, Score: {score}')"
   ]
  },
  {
   "cell_type": "code",
   "execution_count": 39,
   "id": "e77b26fb",
   "metadata": {},
   "outputs": [],
   "source": [
    "from tensorflow.keras.models import Sequential\n",
    "from tensorflow.keras.layers import Dense, Flatten\n",
    "from tensorflow.keras.optimizers import Adam"
   ]
  },
  {
   "cell_type": "code",
   "execution_count": 41,
   "id": "487ad78b",
   "metadata": {},
   "outputs": [],
   "source": [
    "states = env.observation_space.shape\n",
    "actions = env.action_space.n"
   ]
  },
  {
   "cell_type": "code",
   "execution_count": 49,
   "id": "08f8edcf",
   "metadata": {},
   "outputs": [],
   "source": [
    "def build_model(states, actions):\n",
    "    model = Sequential()\n",
    "    model.add(Dense(24, activation='relu', input_shape=states))\n",
    "    model.add(Dense(24, activation='relu'))\n",
    "    model.add(Dense(actions, activation='linear'))\n",
    "    return model"
   ]
  },
  {
   "cell_type": "code",
   "execution_count": 64,
   "id": "b0a014dc",
   "metadata": {},
   "outputs": [],
   "source": [
    "model = build_model(states, actions)"
   ]
  },
  {
   "cell_type": "code",
   "execution_count": 51,
   "id": "ad142880",
   "metadata": {},
   "outputs": [
    {
     "name": "stdout",
     "output_type": "stream",
     "text": [
      "Model: \"sequential_3\"\n",
      "_________________________________________________________________\n",
      " Layer (type)                Output Shape              Param #   \n",
      "=================================================================\n",
      " dense_4 (Dense)             (None, 24)                48        \n",
      "                                                                 \n",
      " dense_5 (Dense)             (None, 24)                600       \n",
      "                                                                 \n",
      " dense_6 (Dense)             (None, 3)                 75        \n",
      "                                                                 \n",
      "=================================================================\n",
      "Total params: 723\n",
      "Trainable params: 723\n",
      "Non-trainable params: 0\n",
      "_________________________________________________________________\n"
     ]
    }
   ],
   "source": [
    "model.summary()"
   ]
  },
  {
   "cell_type": "code",
   "execution_count": 52,
   "id": "86552644",
   "metadata": {},
   "outputs": [
    {
     "name": "stdout",
     "output_type": "stream",
     "text": [
      "Collecting keras-rl2\n",
      "  Downloading keras_rl2-1.0.5-py3-none-any.whl (52 kB)\n",
      "     ---------------------------------------- 52.1/52.1 kB 1.4 MB/s eta 0:00:00\n",
      "Requirement already satisfied: tensorflow in c:\\users\\brave\\anaconda3\\envs\\pythondata38\\lib\\site-packages (from keras-rl2) (2.10.0)\n",
      "Requirement already satisfied: absl-py>=1.0.0 in c:\\users\\brave\\anaconda3\\envs\\pythondata38\\lib\\site-packages (from tensorflow->keras-rl2) (1.3.0)\n",
      "Requirement already satisfied: google-pasta>=0.1.1 in c:\\users\\brave\\anaconda3\\envs\\pythondata38\\lib\\site-packages (from tensorflow->keras-rl2) (0.2.0)\n",
      "Requirement already satisfied: six>=1.12.0 in c:\\users\\brave\\anaconda3\\envs\\pythondata38\\lib\\site-packages (from tensorflow->keras-rl2) (1.16.0)\n",
      "Requirement already satisfied: flatbuffers>=2.0 in c:\\users\\brave\\anaconda3\\envs\\pythondata38\\lib\\site-packages (from tensorflow->keras-rl2) (22.10.26)\n",
      "Requirement already satisfied: libclang>=13.0.0 in c:\\users\\brave\\anaconda3\\envs\\pythondata38\\lib\\site-packages (from tensorflow->keras-rl2) (14.0.6)\n",
      "Requirement already satisfied: termcolor>=1.1.0 in c:\\users\\brave\\anaconda3\\envs\\pythondata38\\lib\\site-packages (from tensorflow->keras-rl2) (2.1.0)\n",
      "Requirement already satisfied: tensorflow-estimator<2.11,>=2.10.0 in c:\\users\\brave\\anaconda3\\envs\\pythondata38\\lib\\site-packages (from tensorflow->keras-rl2) (2.10.0)\n",
      "Requirement already satisfied: gast<=0.4.0,>=0.2.1 in c:\\users\\brave\\anaconda3\\envs\\pythondata38\\lib\\site-packages (from tensorflow->keras-rl2) (0.4.0)\n",
      "Requirement already satisfied: astunparse>=1.6.0 in c:\\users\\brave\\anaconda3\\envs\\pythondata38\\lib\\site-packages (from tensorflow->keras-rl2) (1.6.3)\n",
      "Requirement already satisfied: setuptools in c:\\users\\brave\\anaconda3\\envs\\pythondata38\\lib\\site-packages (from tensorflow->keras-rl2) (61.2.0)\n",
      "Requirement already satisfied: protobuf<3.20,>=3.9.2 in c:\\users\\brave\\anaconda3\\envs\\pythondata38\\lib\\site-packages (from tensorflow->keras-rl2) (3.19.1)\n",
      "Requirement already satisfied: keras<2.11,>=2.10.0 in c:\\users\\brave\\anaconda3\\envs\\pythondata38\\lib\\site-packages (from tensorflow->keras-rl2) (2.10.0)\n",
      "Requirement already satisfied: typing-extensions>=3.6.6 in c:\\users\\brave\\anaconda3\\envs\\pythondata38\\lib\\site-packages (from tensorflow->keras-rl2) (4.6.2)\n",
      "Requirement already satisfied: tensorboard<2.11,>=2.10 in c:\\users\\brave\\anaconda3\\envs\\pythondata38\\lib\\site-packages (from tensorflow->keras-rl2) (2.10.1)\n",
      "Requirement already satisfied: opt-einsum>=2.3.2 in c:\\users\\brave\\anaconda3\\envs\\pythondata38\\lib\\site-packages (from tensorflow->keras-rl2) (3.3.0)\n",
      "Requirement already satisfied: tensorflow-io-gcs-filesystem>=0.23.1 in c:\\users\\brave\\anaconda3\\envs\\pythondata38\\lib\\site-packages (from tensorflow->keras-rl2) (0.27.0)\n",
      "Requirement already satisfied: grpcio<2.0,>=1.24.3 in c:\\users\\brave\\anaconda3\\envs\\pythondata38\\lib\\site-packages (from tensorflow->keras-rl2) (1.42.0)\n",
      "Requirement already satisfied: packaging in c:\\users\\brave\\anaconda3\\envs\\pythondata38\\lib\\site-packages (from tensorflow->keras-rl2) (21.3)\n",
      "Requirement already satisfied: keras-preprocessing>=1.1.1 in c:\\users\\brave\\anaconda3\\envs\\pythondata38\\lib\\site-packages (from tensorflow->keras-rl2) (1.1.2)\n",
      "Requirement already satisfied: wrapt>=1.11.0 in c:\\users\\brave\\anaconda3\\envs\\pythondata38\\lib\\site-packages (from tensorflow->keras-rl2) (1.12.1)\n",
      "Requirement already satisfied: numpy>=1.20 in c:\\users\\brave\\anaconda3\\envs\\pythondata38\\lib\\site-packages (from tensorflow->keras-rl2) (1.21.5)\n",
      "Requirement already satisfied: h5py>=2.9.0 in c:\\users\\brave\\anaconda3\\envs\\pythondata38\\lib\\site-packages (from tensorflow->keras-rl2) (2.10.0)\n",
      "Requirement already satisfied: wheel<1.0,>=0.23.0 in c:\\users\\brave\\anaconda3\\envs\\pythondata38\\lib\\site-packages (from astunparse>=1.6.0->tensorflow->keras-rl2) (0.37.1)\n",
      "Requirement already satisfied: werkzeug>=1.0.1 in c:\\users\\brave\\anaconda3\\envs\\pythondata38\\lib\\site-packages (from tensorboard<2.11,>=2.10->tensorflow->keras-rl2) (2.0.3)\n",
      "Requirement already satisfied: tensorboard-data-server<0.7.0,>=0.6.0 in c:\\users\\brave\\anaconda3\\envs\\pythondata38\\lib\\site-packages (from tensorboard<2.11,>=2.10->tensorflow->keras-rl2) (0.6.1)\n",
      "Requirement already satisfied: google-auth-oauthlib<0.5,>=0.4.1 in c:\\users\\brave\\anaconda3\\envs\\pythondata38\\lib\\site-packages (from tensorboard<2.11,>=2.10->tensorflow->keras-rl2) (0.4.6)\n",
      "Requirement already satisfied: markdown>=2.6.8 in c:\\users\\brave\\anaconda3\\envs\\pythondata38\\lib\\site-packages (from tensorboard<2.11,>=2.10->tensorflow->keras-rl2) (3.3.4)\n",
      "Requirement already satisfied: tensorboard-plugin-wit>=1.6.0 in c:\\users\\brave\\anaconda3\\envs\\pythondata38\\lib\\site-packages (from tensorboard<2.11,>=2.10->tensorflow->keras-rl2) (1.8.1)\n",
      "Requirement already satisfied: requests<3,>=2.21.0 in c:\\users\\brave\\anaconda3\\envs\\pythondata38\\lib\\site-packages (from tensorboard<2.11,>=2.10->tensorflow->keras-rl2) (2.27.1)\n",
      "Requirement already satisfied: google-auth<3,>=1.6.3 in c:\\users\\brave\\anaconda3\\envs\\pythondata38\\lib\\site-packages (from tensorboard<2.11,>=2.10->tensorflow->keras-rl2) (1.33.0)\n",
      "Requirement already satisfied: pyparsing!=3.0.5,>=2.0.2 in c:\\users\\brave\\anaconda3\\envs\\pythondata38\\lib\\site-packages (from packaging->tensorflow->keras-rl2) (3.0.4)\n",
      "Requirement already satisfied: pyasn1-modules>=0.2.1 in c:\\users\\brave\\anaconda3\\envs\\pythondata38\\lib\\site-packages (from google-auth<3,>=1.6.3->tensorboard<2.11,>=2.10->tensorflow->keras-rl2) (0.2.8)\n",
      "Requirement already satisfied: rsa<5,>=3.1.4 in c:\\users\\brave\\anaconda3\\envs\\pythondata38\\lib\\site-packages (from google-auth<3,>=1.6.3->tensorboard<2.11,>=2.10->tensorflow->keras-rl2) (4.7.2)\n",
      "Requirement already satisfied: cachetools<5.0,>=2.0.0 in c:\\users\\brave\\anaconda3\\envs\\pythondata38\\lib\\site-packages (from google-auth<3,>=1.6.3->tensorboard<2.11,>=2.10->tensorflow->keras-rl2) (4.2.2)\n",
      "Requirement already satisfied: requests-oauthlib>=0.7.0 in c:\\users\\brave\\anaconda3\\envs\\pythondata38\\lib\\site-packages (from google-auth-oauthlib<0.5,>=0.4.1->tensorboard<2.11,>=2.10->tensorflow->keras-rl2) (1.3.1)\n",
      "Requirement already satisfied: charset-normalizer~=2.0.0 in c:\\users\\brave\\anaconda3\\envs\\pythondata38\\lib\\site-packages (from requests<3,>=2.21.0->tensorboard<2.11,>=2.10->tensorflow->keras-rl2) (2.0.4)\n",
      "Requirement already satisfied: certifi>=2017.4.17 in c:\\users\\brave\\anaconda3\\envs\\pythondata38\\lib\\site-packages (from requests<3,>=2.21.0->tensorboard<2.11,>=2.10->tensorflow->keras-rl2) (2022.9.24)\n",
      "Requirement already satisfied: urllib3<1.27,>=1.21.1 in c:\\users\\brave\\anaconda3\\envs\\pythondata38\\lib\\site-packages (from requests<3,>=2.21.0->tensorboard<2.11,>=2.10->tensorflow->keras-rl2) (1.26.9)\n",
      "Requirement already satisfied: idna<4,>=2.5 in c:\\users\\brave\\anaconda3\\envs\\pythondata38\\lib\\site-packages (from requests<3,>=2.21.0->tensorboard<2.11,>=2.10->tensorflow->keras-rl2) (3.3)\n",
      "Requirement already satisfied: pyasn1<0.5.0,>=0.4.6 in c:\\users\\brave\\anaconda3\\envs\\pythondata38\\lib\\site-packages (from pyasn1-modules>=0.2.1->google-auth<3,>=1.6.3->tensorboard<2.11,>=2.10->tensorflow->keras-rl2) (0.4.8)\n",
      "Requirement already satisfied: oauthlib>=3.0.0 in c:\\users\\brave\\anaconda3\\envs\\pythondata38\\lib\\site-packages (from requests-oauthlib>=0.7.0->google-auth-oauthlib<0.5,>=0.4.1->tensorboard<2.11,>=2.10->tensorflow->keras-rl2) (3.2.2)\n",
      "Installing collected packages: keras-rl2\n",
      "Successfully installed keras-rl2-1.0.5\n"
     ]
    }
   ],
   "source": [
    "!pip install keras-rl2"
   ]
  },
  {
   "cell_type": "code",
   "execution_count": 60,
   "id": "0dddc2bf",
   "metadata": {},
   "outputs": [],
   "source": [
    "from rl.agents import DQNAgent\n",
    "from rl.policy import BoltzmannQPolicy\n",
    "from rl.memory import SequentialMemory"
   ]
  },
  {
   "cell_type": "code",
   "execution_count": 61,
   "id": "0234b04a",
   "metadata": {},
   "outputs": [],
   "source": [
    "def build_agent(model, actions):\n",
    "    policy = BoltzmannQPolicy()\n",
    "    memory = SequentialMemory(limit=50000, window_length=1)\n",
    "    dqn = DQNAgent(model=model, memory=memory, policy=policy,\n",
    "                nb_actions=actions, nb_steps_warmup=10, target_model_update=1e-2)\n",
    "    return dqn"
   ]
  },
  {
   "cell_type": "code",
   "execution_count": 66,
   "id": "ebe271a4",
   "metadata": {},
   "outputs": [
    {
     "name": "stdout",
     "output_type": "stream",
     "text": [
      "Training for 50000 steps ...\n",
      "Interval 1 (0 steps performed)\n"
     ]
    },
    {
     "name": "stderr",
     "output_type": "stream",
     "text": [
      "C:\\Users\\Brave\\anaconda3\\envs\\PythonData38\\lib\\site-packages\\keras\\engine\\training_v1.py:2356: UserWarning: `Model.state_updates` will be removed in a future version. This property should not be used in TensorFlow 2.0, as `updates` are applied automatically.\n",
      "  updates=self.state_updates,\n"
     ]
    },
    {
     "name": "stdout",
     "output_type": "stream",
     "text": [
      "\r",
      "    1/10000 [..............................] - ETA: 37:07 - reward: 1.0000"
     ]
    },
    {
     "name": "stderr",
     "output_type": "stream",
     "text": [
      "C:\\Users\\Brave\\anaconda3\\envs\\PythonData38\\lib\\site-packages\\rl\\memory.py:37: UserWarning: Not enough entries to sample without replacement. Consider increasing your warm-up phase to avoid oversampling!\n",
      "  warnings.warn('Not enough entries to sample without replacement. Consider increasing your warm-up phase to avoid oversampling!')\n"
     ]
    },
    {
     "name": "stdout",
     "output_type": "stream",
     "text": [
      "10000/10000 [==============================] - 182s 18ms/step - reward: -0.6480\n",
      "163 episodes - episode_reward: -39.577 [-61.000, 17.000] - loss: 1.015 - mae: 6.819 - mean_q: -9.523\n",
      "\n",
      "Interval 2 (10000 steps performed)\n",
      "10000/10000 [==============================] - 183s 18ms/step - reward: -0.6078\n",
      "164 episodes - episode_reward: -36.951 [-61.000, 17.000] - loss: 2.045 - mae: 10.811 - mean_q: -15.505\n",
      "\n",
      "Interval 3 (20000 steps performed)\n",
      "10000/10000 [==============================] - 185s 18ms/step - reward: -0.5582\n",
      "164 episodes - episode_reward: -34.183 [-61.000, 9.000] - loss: 3.425 - mae: 13.424 - mean_q: -19.385\n",
      "\n",
      "Interval 4 (30000 steps performed)\n",
      "10000/10000 [==============================] - 187s 19ms/step - reward: -0.4170\n",
      "164 episodes - episode_reward: -25.561 [-61.000, 27.000] - loss: 2.586 - mae: 11.169 - mean_q: -15.930\n",
      "\n",
      "Interval 5 (40000 steps performed)\n",
      "10000/10000 [==============================] - 192s 19ms/step - reward: -0.2744\n",
      "done, took 928.622 seconds\n"
     ]
    },
    {
     "data": {
      "text/plain": [
       "<keras.callbacks.History at 0x242eaa302b0>"
      ]
     },
     "execution_count": 66,
     "metadata": {},
     "output_type": "execute_result"
    }
   ],
   "source": [
    "dqn = build_agent(model, actions)\n",
    "dqn.compile(Adam(lr=1e-3), metrics=['mae'])\n",
    "dqn.fit(env, nb_steps=50000, visualize=False, verbose=1)"
   ]
  },
  {
   "cell_type": "code",
   "execution_count": 1,
   "id": "81c1befc",
   "metadata": {},
   "outputs": [],
   "source": [
    "from ai import Observation"
   ]
  },
  {
   "cell_type": "code",
   "execution_count": null,
   "id": "be6d4ae3",
   "metadata": {},
   "outputs": [],
   "source": [
    "o = Observation(1,2,3,4,5,)"
   ]
  },
  {
   "cell_type": "code",
   "execution_count": null,
   "id": "2b671f15",
   "metadata": {},
   "outputs": [],
   "source": [
    "o[1]"
   ]
  },
  {
   "cell_type": "code",
   "execution_count": null,
   "id": "edc4b9c8",
   "metadata": {},
   "outputs": [],
   "source": []
  }
 ],
 "metadata": {
  "kernelspec": {
   "display_name": "Python 3 (ipykernel)",
   "language": "python",
   "name": "python3"
  },
  "language_info": {
   "codemirror_mode": {
    "name": "ipython",
    "version": 3
   },
   "file_extension": ".py",
   "mimetype": "text/x-python",
   "name": "python",
   "nbconvert_exporter": "python",
   "pygments_lexer": "ipython3",
   "version": "3.8.13"
  }
 },
 "nbformat": 4,
 "nbformat_minor": 5
}
